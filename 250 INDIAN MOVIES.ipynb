{
 "cells": [
  {
   "cell_type": "markdown",
   "id": "da0f0fed",
   "metadata": {},
   "source": [
    "Write a Python program to download IMDB's Top 250 data (movie name, Initial release, director name and stars)."
   ]
  },
  {
   "cell_type": "code",
   "execution_count": 1,
   "id": "e409cbfd",
   "metadata": {},
   "outputs": [],
   "source": [
    "from bs4 import BeautifulSoup"
   ]
  },
  {
   "cell_type": "code",
   "execution_count": 2,
   "id": "3e739ef2",
   "metadata": {},
   "outputs": [],
   "source": [
    "import requests"
   ]
  },
  {
   "cell_type": "code",
   "execution_count": 3,
   "id": "0f6280d0",
   "metadata": {},
   "outputs": [],
   "source": [
    "import re"
   ]
  },
  {
   "cell_type": "code",
   "execution_count": 4,
   "id": "30fee2e3",
   "metadata": {},
   "outputs": [],
   "source": [
    "url = 'http://www.imdb.com/chart/top'"
   ]
  },
  {
   "cell_type": "code",
   "execution_count": 5,
   "id": "1ebe46b9",
   "metadata": {},
   "outputs": [],
   "source": [
    "response = requests.get(url)"
   ]
  },
  {
   "cell_type": "code",
   "execution_count": 6,
   "id": "7af05765",
   "metadata": {},
   "outputs": [],
   "source": [
    "response = requests.get(url)"
   ]
  },
  {
   "cell_type": "code",
   "execution_count": 10,
   "id": "a3622ccb",
   "metadata": {},
   "outputs": [],
   "source": [
    "soup = BeautifulSoup(response.text, 'lxml')"
   ]
  },
  {
   "cell_type": "code",
   "execution_count": 11,
   "id": "981d3d5f",
   "metadata": {},
   "outputs": [],
   "source": [
    "\n",
    "movies = soup.select('td.titleColumn')\n"
   ]
  },
  {
   "cell_type": "code",
   "execution_count": 12,
   "id": "53f38cac",
   "metadata": {},
   "outputs": [],
   "source": [
    "links = [a.attrs.get('href') for a in soup.select('td.titleColumn a')]"
   ]
  },
  {
   "cell_type": "code",
   "execution_count": 13,
   "id": "f59325fb",
   "metadata": {},
   "outputs": [],
   "source": [
    "crew = [a.attrs.get('title') for a in soup.select('td.titleColumn a')]"
   ]
  },
  {
   "cell_type": "code",
   "execution_count": 15,
   "id": "f4ef3662",
   "metadata": {},
   "outputs": [],
   "source": [
    "ratings = [b.attrs.get('data-value') for b in soup.select('td.posterColumn span[name=ir]')]"
   ]
  },
  {
   "cell_type": "code",
   "execution_count": 16,
   "id": "42bfffb5",
   "metadata": {},
   "outputs": [],
   "source": [
    "votes = [b.attrs.get('data-value') for b in soup.select('td.ratingColumn strong')]"
   ]
  },
  {
   "cell_type": "code",
   "execution_count": 19,
   "id": "851f2bfd",
   "metadata": {},
   "outputs": [],
   "source": [
    "imdb = []"
   ]
  },
  {
   "cell_type": "code",
   "execution_count": 22,
   "id": "0e0781ea",
   "metadata": {},
   "outputs": [],
   "source": [
    "for index in range(0, len(movies)):\n",
    "    movie_string = movies[index].get_text()\n",
    "    movie = (' '.join(movie_string.split()).replace('.', ''))\n",
    "    movie_title = movie[len(str(index))+1:-7]\n",
    "    year = re.search('\\((.*?)\\)', movie_string).group(1)\n",
    "    place = movie[:len(str(index))-(len(movie))]\n",
    "    data = {\"movie_title\": movie_title,\"year\": year,\"place\": place,\"star_cast\": crew[index],\"rating\": ratings[index],\"vote\": votes[index],\"link\": links[index]}\n",
    "            "
   ]
  },
  {
   "cell_type": "code",
   "execution_count": 23,
   "id": "9e7f6221",
   "metadata": {},
   "outputs": [],
   "source": [
    "imdb.append(data)"
   ]
  },
  {
   "cell_type": "code",
   "execution_count": 26,
   "id": "7d5087d7",
   "metadata": {},
   "outputs": [
    {
     "name": "stdout",
     "output_type": "stream",
     "text": [
      "250 - Donnie Darko (2001) - Starring: Richard Kelly (dir.), Jake Gyllenhaal, Jena Malone\n"
     ]
    }
   ],
   "source": [
    "for item in imdb:\n",
    "    print(item['place'], '-', item['movie_title'], '('+item['year']+') -', 'Starring:', item['star_cast'])"
   ]
  },
  {
   "cell_type": "code",
   "execution_count": null,
   "id": "55534913",
   "metadata": {},
   "outputs": [],
   "source": []
  },
  {
   "cell_type": "code",
   "execution_count": null,
   "id": "528bc101",
   "metadata": {},
   "outputs": [],
   "source": []
  }
 ],
 "metadata": {
  "kernelspec": {
   "display_name": "Python 3",
   "language": "python",
   "name": "python3"
  },
  "language_info": {
   "codemirror_mode": {
    "name": "ipython",
    "version": 3
   },
   "file_extension": ".py",
   "mimetype": "text/x-python",
   "name": "python",
   "nbconvert_exporter": "python",
   "pygments_lexer": "ipython3",
   "version": "3.8.8"
  }
 },
 "nbformat": 4,
 "nbformat_minor": 5
}
