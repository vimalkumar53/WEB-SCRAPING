{
 "cells": [
  {
   "cell_type": "markdown",
   "id": "beb2813d",
   "metadata": {},
   "source": [
    "Write a python program to scrape first 10 product details which include product name , price , Image URL from https://www.bewakoof.com/women-tshirts?ga_q=tshirts ."
   ]
  },
  {
   "cell_type": "code",
   "execution_count": 1,
   "id": "0c8c0d03",
   "metadata": {},
   "outputs": [],
   "source": [
    "import requests"
   ]
  },
  {
   "cell_type": "code",
   "execution_count": 4,
   "id": "0f2b3f21",
   "metadata": {},
   "outputs": [],
   "source": [
    "from bs4 import BeautifulSoup"
   ]
  },
  {
   "cell_type": "code",
   "execution_count": 12,
   "id": "a20760dc",
   "metadata": {},
   "outputs": [
    {
     "ename": "IndentationError",
     "evalue": "unexpected indent (<ipython-input-12-417dd4259844>, line 10)",
     "output_type": "error",
     "traceback": [
      "\u001b[1;36m  File \u001b[1;32m\"<ipython-input-12-417dd4259844>\"\u001b[1;36m, line \u001b[1;32m10\u001b[0m\n\u001b[1;33m    from urllib.request import urlopen\u001b[0m\n\u001b[1;37m    ^\u001b[0m\n\u001b[1;31mIndentationError\u001b[0m\u001b[1;31m:\u001b[0m unexpected indent\n"
     ]
    }
   ],
   "source": [
    "page = requests.get(url)\n",
    "soup = BeautifulSoup(page.content, 'html.parser')\n",
    "data_item = []\n",
    "for item in name_box, price_box:\n",
    "    data_item.append()\n",
    "    name_box = soup.find('div', attrs={'class':'product__title ui-body-text'})\n",
    "    price_box = soup.find('div', attrs={'class':'product-price__headline-product-price__headline--sale'})\n",
    "    name = name_box.text.strip()\n",
    "    price = price_box.text.strip()\n",
    "        from urllib.request import urlopen\n",
    "        from bs4 import BeautifulSoup\n",
    "        html = urlopen(url)\n",
    "        bsObj = BeautifulSoup(html.read(),\"html.parser\")  \n",
    "        product_name = bsObj.findAll(\"a\",{\"class\":\"name-link\"})\n",
    "        print(product_name)"
   ]
  }
 ],
 "metadata": {
  "kernelspec": {
   "display_name": "Python 3",
   "language": "python",
   "name": "python3"
  },
  "language_info": {
   "codemirror_mode": {
    "name": "ipython",
    "version": 3
   },
   "file_extension": ".py",
   "mimetype": "text/x-python",
   "name": "python",
   "nbconvert_exporter": "python",
   "pygments_lexer": "ipython3",
   "version": "3.8.8"
  }
 },
 "nbformat": 4,
 "nbformat_minor": 5
}
