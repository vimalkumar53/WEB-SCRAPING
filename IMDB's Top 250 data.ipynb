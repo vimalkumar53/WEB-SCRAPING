{
 "cells": [
  {
   "cell_type": "markdown",
   "id": "731c2892",
   "metadata": {},
   "source": [
    "Write a Python program to download IMDB's Top 250 data (movie name, Initial release, director name and stars)."
   ]
  },
  {
   "cell_type": "code",
   "execution_count": 1,
   "id": "45e09fd4",
   "metadata": {},
   "outputs": [],
   "source": [
    "from bs4 import BeautifulSoup"
   ]
  },
  {
   "cell_type": "code",
   "execution_count": 2,
   "id": "36ce051d",
   "metadata": {},
   "outputs": [],
   "source": [
    "import requests"
   ]
  },
  {
   "cell_type": "code",
   "execution_count": 3,
   "id": "47088494",
   "metadata": {},
   "outputs": [],
   "source": [
    "import re"
   ]
  },
  {
   "cell_type": "code",
   "execution_count": 4,
   "id": "9b398b1a",
   "metadata": {},
   "outputs": [],
   "source": [
    "url = 'http://www.imdb.com/chart/top'"
   ]
  },
  {
   "cell_type": "code",
   "execution_count": 5,
   "id": "3e44c96a",
   "metadata": {},
   "outputs": [],
   "source": [
    "response = requests.get(url)"
   ]
  },
  {
   "cell_type": "code",
   "execution_count": 6,
   "id": "40f479f2",
   "metadata": {},
   "outputs": [],
   "source": [
    "response = requests.get(url)"
   ]
  },
  {
   "cell_type": "code",
   "execution_count": 10,
   "id": "b3d9d2fe",
   "metadata": {},
   "outputs": [],
   "source": [
    "soup = BeautifulSoup(response.text, 'lxml')"
   ]
  },
  {
   "cell_type": "code",
   "execution_count": 11,
   "id": "8aef79b4",
   "metadata": {},
   "outputs": [],
   "source": [
    "\n",
    "movies = soup.select('td.titleColumn')\n"
   ]
  },
  {
   "cell_type": "code",
   "execution_count": 12,
   "id": "f81d1d01",
   "metadata": {},
   "outputs": [],
   "source": [
    "links = [a.attrs.get('href') for a in soup.select('td.titleColumn a')]"
   ]
  },
  {
   "cell_type": "code",
   "execution_count": 13,
   "id": "2563047b",
   "metadata": {},
   "outputs": [],
   "source": [
    "crew = [a.attrs.get('title') for a in soup.select('td.titleColumn a')]"
   ]
  },
  {
   "cell_type": "code",
   "execution_count": 15,
   "id": "348e5675",
   "metadata": {},
   "outputs": [],
   "source": [
    "ratings = [b.attrs.get('data-value') for b in soup.select('td.posterColumn span[name=ir]')]"
   ]
  },
  {
   "cell_type": "code",
   "execution_count": 16,
   "id": "a6fa6e07",
   "metadata": {},
   "outputs": [],
   "source": [
    "votes = [b.attrs.get('data-value') for b in soup.select('td.ratingColumn strong')]"
   ]
  },
  {
   "cell_type": "code",
   "execution_count": 19,
   "id": "d8df26cb",
   "metadata": {},
   "outputs": [],
   "source": [
    "imdb = []"
   ]
  },
  {
   "cell_type": "code",
   "execution_count": 22,
   "id": "6b6175f2",
   "metadata": {},
   "outputs": [],
   "source": [
    "for index in range(0, len(movies)):\n",
    "    movie_string = movies[index].get_text()\n",
    "    movie = (' '.join(movie_string.split()).replace('.', ''))\n",
    "    movie_title = movie[len(str(index))+1:-7]\n",
    "    year = re.search('\\((.*?)\\)', movie_string).group(1)\n",
    "    place = movie[:len(str(index))-(len(movie))]\n",
    "    data = {\"movie_title\": movie_title,\"year\": year,\"place\": place,\"star_cast\": crew[index],\"rating\": ratings[index],\"vote\": votes[index],\"link\": links[index]}\n",
    "            "
   ]
  },
  {
   "cell_type": "code",
   "execution_count": 23,
   "id": "a1ae5388",
   "metadata": {},
   "outputs": [],
   "source": [
    "imdb.append(data)"
   ]
  },
  {
   "cell_type": "code",
   "execution_count": 24,
   "id": "bba73f5c",
   "metadata": {},
   "outputs": [
    {
     "name": "stdout",
     "output_type": "stream",
     "text": [
      "250 - Donnie Darko (2001) - Starring: Richard Kelly (dir.), Jake Gyllenhaal, Jena Malone\n"
     ]
    }
   ],
   "source": [
    "for item in imdb:\n",
    "    print(item['place'], '-', item['movie_title'], '('+item['year']+') -', 'Starring:', item['star_cast'])"
   ]
  },
  {
   "cell_type": "code",
   "execution_count": null,
   "id": "8f505e94",
   "metadata": {},
   "outputs": [],
   "source": []
  }
 ],
 "metadata": {
  "kernelspec": {
   "display_name": "Python 3",
   "language": "python",
   "name": "python3"
  },
  "language_info": {
   "codemirror_mode": {
    "name": "ipython",
    "version": 3
   },
   "file_extension": ".py",
   "mimetype": "text/x-python",
   "name": "python",
   "nbconvert_exporter": "python",
   "pygments_lexer": "ipython3",
   "version": "3.8.8"
  }
 },
 "nbformat": 4,
 "nbformat_minor": 5
}
